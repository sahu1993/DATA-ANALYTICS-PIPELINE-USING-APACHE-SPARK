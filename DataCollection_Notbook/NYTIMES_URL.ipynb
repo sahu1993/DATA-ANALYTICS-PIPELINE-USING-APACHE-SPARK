{
 "cells": [
  {
   "cell_type": "code",
   "execution_count": 15,
   "metadata": {},
   "outputs": [
    {
     "data": {
      "text/html": [
       "<table>\n",
       "<thead><tr><th scope=col>hits</th><th scope=col>offset</th><th scope=col>time</th></tr></thead>\n",
       "<tbody>\n",
       "\t<tr><td>710910</td><td>0     </td><td>143   </td></tr>\n",
       "</tbody>\n",
       "</table>\n"
      ],
      "text/latex": [
       "\\begin{tabular}{r|lll}\n",
       " hits & offset & time\\\\\n",
       "\\hline\n",
       "\t 710910 & 0      & 143   \\\\\n",
       "\\end{tabular}\n"
      ],
      "text/markdown": [
       "\n",
       "hits | offset | time | \n",
       "|---|\n",
       "| 710910 | 0      | 143    | \n",
       "\n",
       "\n"
      ],
      "text/plain": [
       "  hits   offset time\n",
       "1 710910 0      143 "
      ]
     },
     "metadata": {},
     "output_type": "display_data"
    },
    {
     "data": {
      "text/html": [
       "<table>\n",
       "<thead><tr><th scope=col>SportsData.data.web_url</th></tr></thead>\n",
       "<tbody>\n",
       "\t<tr><td>https://www.nytimes.com/2018/05/07/well/how-to-avoid-burnout-in-youth-sports.html            </td></tr>\n",
       "\t<tr><td>https://www.nytimes.com/2018/03/30/opinion/sports-betting-final-four.html                    </td></tr>\n",
       "\t<tr><td>https://www.nytimes.com/2018/02/18/books/superfans-george-dohrmann.html                      </td></tr>\n",
       "\t<tr><td>https://www.nytimes.com/pages/sports/sports-email/index.html                                 </td></tr>\n",
       "\t<tr><td>https://www.nytimes.com/2017/12/28/sunday-review/college-sports-tax-dodge.html               </td></tr>\n",
       "\t<tr><td>https://www.nytimes.com/pages/sports/international/index.html                                </td></tr>\n",
       "\t<tr><td>https://www.nytimes.com/pages/sports/index.html                                              </td></tr>\n",
       "\t<tr><td>https://topics.nytimes.com/top/reference/timestopics/subjects/o/officiating_sports/index.html</td></tr>\n",
       "\t<tr><td>https://topics.nytimes.com/topic/subject/officiating-sports                                  </td></tr>\n",
       "\t<tr><td>https://www.nytimes.com/2017/12/08/sunday-review/how-russia-cheats.html                      </td></tr>\n",
       "</tbody>\n",
       "</table>\n"
      ],
      "text/latex": [
       "\\begin{tabular}{r|l}\n",
       " SportsData.data.web\\_url\\\\\n",
       "\\hline\n",
       "\t https://www.nytimes.com/2018/05/07/well/how-to-avoid-burnout-in-youth-sports.html            \\\\\n",
       "\t https://www.nytimes.com/2018/03/30/opinion/sports-betting-final-four.html                    \\\\\n",
       "\t https://www.nytimes.com/2018/02/18/books/superfans-george-dohrmann.html                      \\\\\n",
       "\t https://www.nytimes.com/pages/sports/sports-email/index.html                                 \\\\\n",
       "\t https://www.nytimes.com/2017/12/28/sunday-review/college-sports-tax-dodge.html               \\\\\n",
       "\t https://www.nytimes.com/pages/sports/international/index.html                                \\\\\n",
       "\t https://www.nytimes.com/pages/sports/index.html                                              \\\\\n",
       "\t https://topics.nytimes.com/top/reference/timestopics/subjects/o/officiating\\_sports/index.html\\\\\n",
       "\t https://topics.nytimes.com/topic/subject/officiating-sports                                  \\\\\n",
       "\t https://www.nytimes.com/2017/12/08/sunday-review/how-russia-cheats.html                      \\\\\n",
       "\\end{tabular}\n"
      ],
      "text/markdown": [
       "\n",
       "SportsData.data.web_url | \n",
       "|---|---|---|---|---|---|---|---|---|---|\n",
       "| https://www.nytimes.com/2018/05/07/well/how-to-avoid-burnout-in-youth-sports.html             | \n",
       "| https://www.nytimes.com/2018/03/30/opinion/sports-betting-final-four.html                     | \n",
       "| https://www.nytimes.com/2018/02/18/books/superfans-george-dohrmann.html                       | \n",
       "| https://www.nytimes.com/pages/sports/sports-email/index.html                                  | \n",
       "| https://www.nytimes.com/2017/12/28/sunday-review/college-sports-tax-dodge.html                | \n",
       "| https://www.nytimes.com/pages/sports/international/index.html                                 | \n",
       "| https://www.nytimes.com/pages/sports/index.html                                               | \n",
       "| https://topics.nytimes.com/top/reference/timestopics/subjects/o/officiating_sports/index.html | \n",
       "| https://topics.nytimes.com/topic/subject/officiating-sports                                   | \n",
       "| https://www.nytimes.com/2017/12/08/sunday-review/how-russia-cheats.html                       | \n",
       "\n",
       "\n"
      ],
      "text/plain": [
       "   SportsData.data.web_url                                                                      \n",
       "1  https://www.nytimes.com/2018/05/07/well/how-to-avoid-burnout-in-youth-sports.html            \n",
       "2  https://www.nytimes.com/2018/03/30/opinion/sports-betting-final-four.html                    \n",
       "3  https://www.nytimes.com/2018/02/18/books/superfans-george-dohrmann.html                      \n",
       "4  https://www.nytimes.com/pages/sports/sports-email/index.html                                 \n",
       "5  https://www.nytimes.com/2017/12/28/sunday-review/college-sports-tax-dodge.html               \n",
       "6  https://www.nytimes.com/pages/sports/international/index.html                                \n",
       "7  https://www.nytimes.com/pages/sports/index.html                                              \n",
       "8  https://topics.nytimes.com/top/reference/timestopics/subjects/o/officiating_sports/index.html\n",
       "9  https://topics.nytimes.com/topic/subject/officiating-sports                                  \n",
       "10 https://www.nytimes.com/2017/12/08/sunday-review/how-russia-cheats.html                      "
      ]
     },
     "metadata": {},
     "output_type": "display_data"
    }
   ],
   "source": [
    "#Name - Shivam Sahu\n",
    "#team member’s Name - N/A\n",
    "\n",
    "library(rtimes)\n",
    "library(magrittr)\n",
    "Sys.setenv(NYTIMES_AS_KEY = \"c777efcf2b3746728883c428cff189c4\")\n",
    "#NYTIMES_AS_KEY= \"c777efcf2b3746728883c428cff189c4\"\n",
    "SportsData <- as_search(q=\"sports\")\n",
    "totalPage <- 5\n",
    "SportsData$meta\n",
    "web_url <- data.frame(SportsData$data$web_url)\n",
    "web_url\n",
    "snippet <- data.frame(SportsData$data$snippet)\n",
    "source <- data.frame(SportsData$data$source)\n",
    "for(i in 0:totalPage){\n",
    "    Sys.sleep(1)\n",
    "    SportsData <- as_search(q=\"sports\", page = i+1)\n",
    "    #print(SportsData$data$web_url)\n",
    "    df <- data.frame(SportsData$data$web_url)\n",
    "    web_url <- rbind(web_url,df) \n",
    "    \n",
    "}\n",
    "\n",
    "write.csv(web_url, file = \"sports_urls.csv\", row.names=FALSE, na=\"\")"
   ]
  },
  {
   "cell_type": "code",
   "execution_count": 18,
   "metadata": {},
   "outputs": [
    {
     "data": {
      "text/html": [
       "<table>\n",
       "<thead><tr><th scope=col>hits</th><th scope=col>offset</th><th scope=col>time</th></tr></thead>\n",
       "<tbody>\n",
       "\t<tr><td>2418868</td><td>0      </td><td>489    </td></tr>\n",
       "</tbody>\n",
       "</table>\n"
      ],
      "text/latex": [
       "\\begin{tabular}{r|lll}\n",
       " hits & offset & time\\\\\n",
       "\\hline\n",
       "\t 2418868 & 0       & 489    \\\\\n",
       "\\end{tabular}\n"
      ],
      "text/markdown": [
       "\n",
       "hits | offset | time | \n",
       "|---|\n",
       "| 2418868 | 0       | 489     | \n",
       "\n",
       "\n"
      ],
      "text/plain": [
       "  hits    offset time\n",
       "1 2418868 0      489 "
      ]
     },
     "metadata": {},
     "output_type": "display_data"
    },
    {
     "data": {
      "text/html": [
       "<table>\n",
       "<thead><tr><th scope=col>BusinessData.data.web_url</th></tr></thead>\n",
       "<tbody>\n",
       "\t<tr><td>https://topics.nytimes.com/top/news/business/small-business/small-business-guides/index.html        </td></tr>\n",
       "\t<tr><td>https://topics.nytimes.com/top/news/business/small-business/buying-and-selling-a-business/index.html</td></tr>\n",
       "\t<tr><td>https://www.nytimes.com/travel/guides/business/overview.html                                        </td></tr>\n",
       "\t<tr><td>https://www.nytimes.com/2018/05/05/business/patagonia-trump-bears-ears.html                         </td></tr>\n",
       "\t<tr><td>https://www.nytimes.com/2018/05/01/business/t-mobile-sprint-john-legere.html                        </td></tr>\n",
       "\t<tr><td>https://www.nytimes.com/pages/feeds/business-columnists/index.html                                  </td></tr>\n",
       "\t<tr><td>https://www.nytimes.com/pages/feeds/business/index.html                                             </td></tr>\n",
       "\t<tr><td>https://topics.nytimes.com/top/news/business/columns/talking_business/index.html                    </td></tr>\n",
       "\t<tr><td>https://www.nytimes.com/pages/business/international/index.html                                     </td></tr>\n",
       "\t<tr><td>https://www.nytimes.com/pages/business/worldbusiness/index.html                                     </td></tr>\n",
       "</tbody>\n",
       "</table>\n"
      ],
      "text/latex": [
       "\\begin{tabular}{r|l}\n",
       " BusinessData.data.web\\_url\\\\\n",
       "\\hline\n",
       "\t https://topics.nytimes.com/top/news/business/small-business/small-business-guides/index.html        \\\\\n",
       "\t https://topics.nytimes.com/top/news/business/small-business/buying-and-selling-a-business/index.html\\\\\n",
       "\t https://www.nytimes.com/travel/guides/business/overview.html                                        \\\\\n",
       "\t https://www.nytimes.com/2018/05/05/business/patagonia-trump-bears-ears.html                         \\\\\n",
       "\t https://www.nytimes.com/2018/05/01/business/t-mobile-sprint-john-legere.html                        \\\\\n",
       "\t https://www.nytimes.com/pages/feeds/business-columnists/index.html                                  \\\\\n",
       "\t https://www.nytimes.com/pages/feeds/business/index.html                                             \\\\\n",
       "\t https://topics.nytimes.com/top/news/business/columns/talking\\_business/index.html                    \\\\\n",
       "\t https://www.nytimes.com/pages/business/international/index.html                                     \\\\\n",
       "\t https://www.nytimes.com/pages/business/worldbusiness/index.html                                     \\\\\n",
       "\\end{tabular}\n"
      ],
      "text/markdown": [
       "\n",
       "BusinessData.data.web_url | \n",
       "|---|---|---|---|---|---|---|---|---|---|\n",
       "| https://topics.nytimes.com/top/news/business/small-business/small-business-guides/index.html         | \n",
       "| https://topics.nytimes.com/top/news/business/small-business/buying-and-selling-a-business/index.html | \n",
       "| https://www.nytimes.com/travel/guides/business/overview.html                                         | \n",
       "| https://www.nytimes.com/2018/05/05/business/patagonia-trump-bears-ears.html                          | \n",
       "| https://www.nytimes.com/2018/05/01/business/t-mobile-sprint-john-legere.html                         | \n",
       "| https://www.nytimes.com/pages/feeds/business-columnists/index.html                                   | \n",
       "| https://www.nytimes.com/pages/feeds/business/index.html                                              | \n",
       "| https://topics.nytimes.com/top/news/business/columns/talking_business/index.html                     | \n",
       "| https://www.nytimes.com/pages/business/international/index.html                                      | \n",
       "| https://www.nytimes.com/pages/business/worldbusiness/index.html                                      | \n",
       "\n",
       "\n"
      ],
      "text/plain": [
       "   BusinessData.data.web_url                                                                           \n",
       "1  https://topics.nytimes.com/top/news/business/small-business/small-business-guides/index.html        \n",
       "2  https://topics.nytimes.com/top/news/business/small-business/buying-and-selling-a-business/index.html\n",
       "3  https://www.nytimes.com/travel/guides/business/overview.html                                        \n",
       "4  https://www.nytimes.com/2018/05/05/business/patagonia-trump-bears-ears.html                         \n",
       "5  https://www.nytimes.com/2018/05/01/business/t-mobile-sprint-john-legere.html                        \n",
       "6  https://www.nytimes.com/pages/feeds/business-columnists/index.html                                  \n",
       "7  https://www.nytimes.com/pages/feeds/business/index.html                                             \n",
       "8  https://topics.nytimes.com/top/news/business/columns/talking_business/index.html                    \n",
       "9  https://www.nytimes.com/pages/business/international/index.html                                     \n",
       "10 https://www.nytimes.com/pages/business/worldbusiness/index.html                                     "
      ]
     },
     "metadata": {},
     "output_type": "display_data"
    }
   ],
   "source": [
    "library(rtimes)\n",
    "library(magrittr)\n",
    "Sys.setenv(NYTIMES_AS_KEY = \"c777efcf2b3746728883c428cff189c4\")\n",
    "#NYTIMES_AS_KEY= \"c777efcf2b3746728883c428cff189c4\"\n",
    "BusinessData <- as_search(q=\"business\")\n",
    "totalPage <- 10\n",
    "BusinessData$meta\n",
    "web_url <- data.frame(BusinessData$data$web_url)\n",
    "web_url\n",
    "snippet <- data.frame(BusinessData$data$snippet)\n",
    "source <- data.frame(BusinessData$data$source)\n",
    "for(i in 0:totalPage){\n",
    "    Sys.sleep(1)\n",
    "    BusinessData <- as_search(q=\"business\", page = i+1)\n",
    "    #print(BusinessData$data$web_url)\n",
    "    df <- data.frame(BusinessData$data$web_url)\n",
    "    web_url <- rbind(web_url,df) \n",
    "    \n",
    "}\n",
    "\n",
    "write.csv(web_url, file = \"business_urls.csv\", row.names=FALSE, na=\"\")"
   ]
  },
  {
   "cell_type": "code",
   "execution_count": 17,
   "metadata": {},
   "outputs": [
    {
     "data": {
      "text/html": [
       "<table>\n",
       "<thead><tr><th scope=col>hits</th><th scope=col>offset</th><th scope=col>time</th></tr></thead>\n",
       "<tbody>\n",
       "\t<tr><td>682771</td><td>0     </td><td>196   </td></tr>\n",
       "</tbody>\n",
       "</table>\n"
      ],
      "text/latex": [
       "\\begin{tabular}{r|lll}\n",
       " hits & offset & time\\\\\n",
       "\\hline\n",
       "\t 682771 & 0      & 196   \\\\\n",
       "\\end{tabular}\n"
      ],
      "text/markdown": [
       "\n",
       "hits | offset | time | \n",
       "|---|\n",
       "| 682771 | 0      | 196    | \n",
       "\n",
       "\n"
      ],
      "text/plain": [
       "  hits   offset time\n",
       "1 682771 0      196 "
      ]
     },
     "metadata": {},
     "output_type": "display_data"
    },
    {
     "data": {
      "text/html": [
       "<table>\n",
       "<thead><tr><th scope=col>PoliticsData.data.web_url</th></tr></thead>\n",
       "<tbody>\n",
       "\t<tr><td>https://www.nytimes.com/2018/03/21/opinion/australia-office-sex-barnaby.html                                    </td></tr>\n",
       "\t<tr><td>https://www.nytimes.com/2018/03/21/arts/design/italian-art-fondazione-prada-palazzo-strozzi.html                </td></tr>\n",
       "\t<tr><td>https://www.nytimes.com/2018/05/04/us/politics/trump-politics-weekly-roundup.html                               </td></tr>\n",
       "\t<tr><td>https://www.nytimes.com/2018/04/27/us/politics/politics-news-round-up.html                                      </td></tr>\n",
       "\t<tr><td>https://www.nytimes.com/2018/04/06/us/politics/news-round-up.html                                               </td></tr>\n",
       "\t<tr><td>https://www.nytimes.com/2018/04/03/us/politics/women-campaign-managers-midterms.html                            </td></tr>\n",
       "\t<tr><td>https://www.nytimes.com/2018/04/11/opinion/islam-feminism-third-way.html                                        </td></tr>\n",
       "\t<tr><td>https://www.nytimes.com/2017/11/11/opinion/sunday/the-power-of-the-courts-is-messing-up-politics.html           </td></tr>\n",
       "\t<tr><td>https://topics.nytimes.com/top/reference/timestopics/subjects/u/united_states_politics_and_government/index.html</td></tr>\n",
       "\t<tr><td>https://topics.nytimes.com/topic/subject/united-states-politics-and-government                                  </td></tr>\n",
       "</tbody>\n",
       "</table>\n"
      ],
      "text/latex": [
       "\\begin{tabular}{r|l}\n",
       " PoliticsData.data.web\\_url\\\\\n",
       "\\hline\n",
       "\t https://www.nytimes.com/2018/03/21/opinion/australia-office-sex-barnaby.html                                    \\\\\n",
       "\t https://www.nytimes.com/2018/03/21/arts/design/italian-art-fondazione-prada-palazzo-strozzi.html                \\\\\n",
       "\t https://www.nytimes.com/2018/05/04/us/politics/trump-politics-weekly-roundup.html                               \\\\\n",
       "\t https://www.nytimes.com/2018/04/27/us/politics/politics-news-round-up.html                                      \\\\\n",
       "\t https://www.nytimes.com/2018/04/06/us/politics/news-round-up.html                                               \\\\\n",
       "\t https://www.nytimes.com/2018/04/03/us/politics/women-campaign-managers-midterms.html                            \\\\\n",
       "\t https://www.nytimes.com/2018/04/11/opinion/islam-feminism-third-way.html                                        \\\\\n",
       "\t https://www.nytimes.com/2017/11/11/opinion/sunday/the-power-of-the-courts-is-messing-up-politics.html           \\\\\n",
       "\t https://topics.nytimes.com/top/reference/timestopics/subjects/u/united\\_states\\_politics\\_and\\_government/index.html\\\\\n",
       "\t https://topics.nytimes.com/topic/subject/united-states-politics-and-government                                  \\\\\n",
       "\\end{tabular}\n"
      ],
      "text/markdown": [
       "\n",
       "PoliticsData.data.web_url | \n",
       "|---|---|---|---|---|---|---|---|---|---|\n",
       "| https://www.nytimes.com/2018/03/21/opinion/australia-office-sex-barnaby.html                                     | \n",
       "| https://www.nytimes.com/2018/03/21/arts/design/italian-art-fondazione-prada-palazzo-strozzi.html                 | \n",
       "| https://www.nytimes.com/2018/05/04/us/politics/trump-politics-weekly-roundup.html                                | \n",
       "| https://www.nytimes.com/2018/04/27/us/politics/politics-news-round-up.html                                       | \n",
       "| https://www.nytimes.com/2018/04/06/us/politics/news-round-up.html                                                | \n",
       "| https://www.nytimes.com/2018/04/03/us/politics/women-campaign-managers-midterms.html                             | \n",
       "| https://www.nytimes.com/2018/04/11/opinion/islam-feminism-third-way.html                                         | \n",
       "| https://www.nytimes.com/2017/11/11/opinion/sunday/the-power-of-the-courts-is-messing-up-politics.html            | \n",
       "| https://topics.nytimes.com/top/reference/timestopics/subjects/u/united_states_politics_and_government/index.html | \n",
       "| https://topics.nytimes.com/topic/subject/united-states-politics-and-government                                   | \n",
       "\n",
       "\n"
      ],
      "text/plain": [
       "   PoliticsData.data.web_url                                                                                       \n",
       "1  https://www.nytimes.com/2018/03/21/opinion/australia-office-sex-barnaby.html                                    \n",
       "2  https://www.nytimes.com/2018/03/21/arts/design/italian-art-fondazione-prada-palazzo-strozzi.html                \n",
       "3  https://www.nytimes.com/2018/05/04/us/politics/trump-politics-weekly-roundup.html                               \n",
       "4  https://www.nytimes.com/2018/04/27/us/politics/politics-news-round-up.html                                      \n",
       "5  https://www.nytimes.com/2018/04/06/us/politics/news-round-up.html                                               \n",
       "6  https://www.nytimes.com/2018/04/03/us/politics/women-campaign-managers-midterms.html                            \n",
       "7  https://www.nytimes.com/2018/04/11/opinion/islam-feminism-third-way.html                                        \n",
       "8  https://www.nytimes.com/2017/11/11/opinion/sunday/the-power-of-the-courts-is-messing-up-politics.html           \n",
       "9  https://topics.nytimes.com/top/reference/timestopics/subjects/u/united_states_politics_and_government/index.html\n",
       "10 https://topics.nytimes.com/topic/subject/united-states-politics-and-government                                  "
      ]
     },
     "metadata": {},
     "output_type": "display_data"
    }
   ],
   "source": [
    "library(rtimes)\n",
    "library(magrittr)\n",
    "Sys.setenv(NYTIMES_AS_KEY = \"c777efcf2b3746728883c428cff189c4\")\n",
    "#NYTIMES_AS_KEY= \"c777efcf2b3746728883c428cff189c4\"\n",
    "PoliticsData <- as_search(q=\"politics\")\n",
    "totalPage <- 5\n",
    "PoliticsData$meta\n",
    "web_url <- data.frame(PoliticsData$data$web_url)\n",
    "web_url\n",
    "snippet <- data.frame(PoliticsData$data$snippet)\n",
    "source <- data.frame(PoliticsData$data$source)\n",
    "for(i in 0:totalPage){\n",
    "    Sys.sleep(1)\n",
    "    PoliticsData <- as_search(q=\"politics\", page = i+1)\n",
    "    #print(PoliticsData$data$web_url)\n",
    "    df <- data.frame(PoliticsData$data$web_url)\n",
    "    web_url <- rbind(web_url,df) \n",
    "    \n",
    "}\n",
    "\n",
    "write.csv(web_url, file = \"politics_urls.csv\", row.names=FALSE, na=\"\")"
   ]
  },
  {
   "cell_type": "code",
   "execution_count": 19,
   "metadata": {},
   "outputs": [
    {
     "data": {
      "text/html": [
       "<table>\n",
       "<thead><tr><th scope=col>hits</th><th scope=col>offset</th><th scope=col>time</th></tr></thead>\n",
       "<tbody>\n",
       "\t<tr><td>645976</td><td>0     </td><td>130   </td></tr>\n",
       "</tbody>\n",
       "</table>\n"
      ],
      "text/latex": [
       "\\begin{tabular}{r|lll}\n",
       " hits & offset & time\\\\\n",
       "\\hline\n",
       "\t 645976 & 0      & 130   \\\\\n",
       "\\end{tabular}\n"
      ],
      "text/markdown": [
       "\n",
       "hits | offset | time | \n",
       "|---|\n",
       "| 645976 | 0      | 130    | \n",
       "\n",
       "\n"
      ],
      "text/plain": [
       "  hits   offset time\n",
       "1 645976 0      130 "
      ]
     },
     "metadata": {},
     "output_type": "display_data"
    },
    {
     "data": {
      "text/html": [
       "<table>\n",
       "<thead><tr><th scope=col>EducationData.data.web_url</th></tr></thead>\n",
       "<tbody>\n",
       "\t<tr><td>https://www.nytimes.com/2018/03/15/theater/education-review-brian-dykstra.html                                </td></tr>\n",
       "\t<tr><td>https://topics.nytimes.com/topic/subject/education                                                            </td></tr>\n",
       "\t<tr><td>https://topics.nytimes.com/top/opinion/education/index.html                                                   </td></tr>\n",
       "\t<tr><td>https://www.nytimes.com/2017/11/03/education/edlife/saying-farewell-to-education-life.html                    </td></tr>\n",
       "\t<tr><td>https://www.nytimes.com/pages/education/edlife/index.html                                                     </td></tr>\n",
       "\t<tr><td>https://www.nytimes.com/section/education                                                                     </td></tr>\n",
       "\t<tr><td>https://www.nytimes.com/2018/05/07/obituaries/ronald-wolk-innovator-in-covering-education-news-dies-at-86.html</td></tr>\n",
       "\t<tr><td>https://topics.nytimes.com/topic/subject/drivers-education                                                    </td></tr>\n",
       "\t<tr><td>https://topics.nytimes.com/top/reference/timestopics/subjects/e/education_and_schools/index.html              </td></tr>\n",
       "\t<tr><td>https://topics.nytimes.com/topic/subject/education-and-schools                                                </td></tr>\n",
       "</tbody>\n",
       "</table>\n"
      ],
      "text/latex": [
       "\\begin{tabular}{r|l}\n",
       " EducationData.data.web\\_url\\\\\n",
       "\\hline\n",
       "\t https://www.nytimes.com/2018/03/15/theater/education-review-brian-dykstra.html                                \\\\\n",
       "\t https://topics.nytimes.com/topic/subject/education                                                            \\\\\n",
       "\t https://topics.nytimes.com/top/opinion/education/index.html                                                   \\\\\n",
       "\t https://www.nytimes.com/2017/11/03/education/edlife/saying-farewell-to-education-life.html                    \\\\\n",
       "\t https://www.nytimes.com/pages/education/edlife/index.html                                                     \\\\\n",
       "\t https://www.nytimes.com/section/education                                                                     \\\\\n",
       "\t https://www.nytimes.com/2018/05/07/obituaries/ronald-wolk-innovator-in-covering-education-news-dies-at-86.html\\\\\n",
       "\t https://topics.nytimes.com/topic/subject/drivers-education                                                    \\\\\n",
       "\t https://topics.nytimes.com/top/reference/timestopics/subjects/e/education\\_and\\_schools/index.html              \\\\\n",
       "\t https://topics.nytimes.com/topic/subject/education-and-schools                                                \\\\\n",
       "\\end{tabular}\n"
      ],
      "text/markdown": [
       "\n",
       "EducationData.data.web_url | \n",
       "|---|---|---|---|---|---|---|---|---|---|\n",
       "| https://www.nytimes.com/2018/03/15/theater/education-review-brian-dykstra.html                                 | \n",
       "| https://topics.nytimes.com/topic/subject/education                                                             | \n",
       "| https://topics.nytimes.com/top/opinion/education/index.html                                                    | \n",
       "| https://www.nytimes.com/2017/11/03/education/edlife/saying-farewell-to-education-life.html                     | \n",
       "| https://www.nytimes.com/pages/education/edlife/index.html                                                      | \n",
       "| https://www.nytimes.com/section/education                                                                      | \n",
       "| https://www.nytimes.com/2018/05/07/obituaries/ronald-wolk-innovator-in-covering-education-news-dies-at-86.html | \n",
       "| https://topics.nytimes.com/topic/subject/drivers-education                                                     | \n",
       "| https://topics.nytimes.com/top/reference/timestopics/subjects/e/education_and_schools/index.html               | \n",
       "| https://topics.nytimes.com/topic/subject/education-and-schools                                                 | \n",
       "\n",
       "\n"
      ],
      "text/plain": [
       "   EducationData.data.web_url                                                                                    \n",
       "1  https://www.nytimes.com/2018/03/15/theater/education-review-brian-dykstra.html                                \n",
       "2  https://topics.nytimes.com/topic/subject/education                                                            \n",
       "3  https://topics.nytimes.com/top/opinion/education/index.html                                                   \n",
       "4  https://www.nytimes.com/2017/11/03/education/edlife/saying-farewell-to-education-life.html                    \n",
       "5  https://www.nytimes.com/pages/education/edlife/index.html                                                     \n",
       "6  https://www.nytimes.com/section/education                                                                     \n",
       "7  https://www.nytimes.com/2018/05/07/obituaries/ronald-wolk-innovator-in-covering-education-news-dies-at-86.html\n",
       "8  https://topics.nytimes.com/topic/subject/drivers-education                                                    \n",
       "9  https://topics.nytimes.com/top/reference/timestopics/subjects/e/education_and_schools/index.html              \n",
       "10 https://topics.nytimes.com/topic/subject/education-and-schools                                                "
      ]
     },
     "metadata": {},
     "output_type": "display_data"
    }
   ],
   "source": [
    "library(rtimes)\n",
    "library(magrittr)\n",
    "Sys.setenv(NYTIMES_AS_KEY = \"c777efcf2b3746728883c428cff189c4\")\n",
    "#NYTIMES_AS_KEY= \"c777efcf2b3746728883c428cff189c4\"\n",
    "EducationData <- as_search(q=\"education\")\n",
    "totalPage <- 15\n",
    "EducationData$meta\n",
    "web_url <- data.frame(EducationData$data$web_url)\n",
    "web_url\n",
    "snippet <- data.frame(EducationData$data$snippet)\n",
    "source <- data.frame(EducationData$data$source)\n",
    "for(i in 0:totalPage){\n",
    "    Sys.sleep(1)\n",
    "    EducationData <- as_search(q=\"education\", page = i+1)\n",
    "    #print(EducationData$data$web_url)\n",
    "    df <- data.frame(EducationData$data$web_url)\n",
    "    web_url <- rbind(web_url,df) \n",
    "    \n",
    "}\n",
    "\n",
    "write.csv(web_url, file = \"education_urls.csv\", row.names=FALSE, na=\"\")"
   ]
  },
  {
   "cell_type": "code",
   "execution_count": 4,
   "metadata": {},
   "outputs": [
    {
     "data": {
      "text/html": [
       "<table>\n",
       "<thead><tr><th scope=col>hits</th><th scope=col>offset</th><th scope=col>time</th></tr></thead>\n",
       "<tbody>\n",
       "\t<tr><td>711077</td><td>70    </td><td>334   </td></tr>\n",
       "</tbody>\n",
       "</table>\n"
      ],
      "text/latex": [
       "\\begin{tabular}{r|lll}\n",
       " hits & offset & time\\\\\n",
       "\\hline\n",
       "\t 711077 & 70     & 334   \\\\\n",
       "\\end{tabular}\n"
      ],
      "text/markdown": [
       "\n",
       "hits | offset | time | \n",
       "|---|\n",
       "| 711077 | 70     | 334    | \n",
       "\n",
       "\n"
      ],
      "text/plain": [
       "  hits   offset time\n",
       "1 711077 70     334 "
      ]
     },
     "metadata": {},
     "output_type": "display_data"
    },
    {
     "data": {
      "text/html": [
       "<table>\n",
       "<thead><tr><th scope=col>SportsData.data.web_url</th></tr></thead>\n",
       "<tbody>\n",
       "\t<tr><td>https://www.nytimes.com/2018/02/15/learning/should-technology-in-sports-be-limited.html               </td></tr>\n",
       "\t<tr><td>https://www.nytimes.com/2018/02/22/sports/olympics/russia-flag-doping.html                            </td></tr>\n",
       "\t<tr><td>https://www.nytimes.com/2018/02/23/sports/olympics/united-states-womens-hockey.html                   </td></tr>\n",
       "\t<tr><td>https://www.nytimes.com/2018/02/20/sports/olympics/olympics-figure-skating-mirai-nagasu.html          </td></tr>\n",
       "\t<tr><td>https://www.nytimes.com/2018/02/18/sports/olympics/figure-skating-nbc-scott-hamilton-.html            </td></tr>\n",
       "\t<tr><td>https://www.nytimes.com/2018/02/12/sports/olympics/claudia-pechstein-doping-germany-olympics.html     </td></tr>\n",
       "\t<tr><td>https://www.nytimes.com/2017/11/14/magazine/spurned-by-espn-barstool-sports-is-staying-on-offense.html</td></tr>\n",
       "\t<tr><td>https://www.nytimes.com/2018/02/09/sports/scott-blackmun-usoc.html                                    </td></tr>\n",
       "\t<tr><td>https://www.nytimes.com/2017/12/25/opinion/sports-betting-legalization.html                           </td></tr>\n",
       "\t<tr><td>https://www.nytimes.com/2018/01/09/style/flywheel-cycling-spinning-at-home.html                       </td></tr>\n",
       "</tbody>\n",
       "</table>\n"
      ],
      "text/latex": [
       "\\begin{tabular}{r|l}\n",
       " SportsData.data.web\\_url\\\\\n",
       "\\hline\n",
       "\t https://www.nytimes.com/2018/02/15/learning/should-technology-in-sports-be-limited.html               \\\\\n",
       "\t https://www.nytimes.com/2018/02/22/sports/olympics/russia-flag-doping.html                            \\\\\n",
       "\t https://www.nytimes.com/2018/02/23/sports/olympics/united-states-womens-hockey.html                   \\\\\n",
       "\t https://www.nytimes.com/2018/02/20/sports/olympics/olympics-figure-skating-mirai-nagasu.html          \\\\\n",
       "\t https://www.nytimes.com/2018/02/18/sports/olympics/figure-skating-nbc-scott-hamilton-.html            \\\\\n",
       "\t https://www.nytimes.com/2018/02/12/sports/olympics/claudia-pechstein-doping-germany-olympics.html     \\\\\n",
       "\t https://www.nytimes.com/2017/11/14/magazine/spurned-by-espn-barstool-sports-is-staying-on-offense.html\\\\\n",
       "\t https://www.nytimes.com/2018/02/09/sports/scott-blackmun-usoc.html                                    \\\\\n",
       "\t https://www.nytimes.com/2017/12/25/opinion/sports-betting-legalization.html                           \\\\\n",
       "\t https://www.nytimes.com/2018/01/09/style/flywheel-cycling-spinning-at-home.html                       \\\\\n",
       "\\end{tabular}\n"
      ],
      "text/markdown": [
       "\n",
       "SportsData.data.web_url | \n",
       "|---|---|---|---|---|---|---|---|---|---|\n",
       "| https://www.nytimes.com/2018/02/15/learning/should-technology-in-sports-be-limited.html                | \n",
       "| https://www.nytimes.com/2018/02/22/sports/olympics/russia-flag-doping.html                             | \n",
       "| https://www.nytimes.com/2018/02/23/sports/olympics/united-states-womens-hockey.html                    | \n",
       "| https://www.nytimes.com/2018/02/20/sports/olympics/olympics-figure-skating-mirai-nagasu.html           | \n",
       "| https://www.nytimes.com/2018/02/18/sports/olympics/figure-skating-nbc-scott-hamilton-.html             | \n",
       "| https://www.nytimes.com/2018/02/12/sports/olympics/claudia-pechstein-doping-germany-olympics.html      | \n",
       "| https://www.nytimes.com/2017/11/14/magazine/spurned-by-espn-barstool-sports-is-staying-on-offense.html | \n",
       "| https://www.nytimes.com/2018/02/09/sports/scott-blackmun-usoc.html                                     | \n",
       "| https://www.nytimes.com/2017/12/25/opinion/sports-betting-legalization.html                            | \n",
       "| https://www.nytimes.com/2018/01/09/style/flywheel-cycling-spinning-at-home.html                        | \n",
       "\n",
       "\n"
      ],
      "text/plain": [
       "   SportsData.data.web_url                                                                               \n",
       "1  https://www.nytimes.com/2018/02/15/learning/should-technology-in-sports-be-limited.html               \n",
       "2  https://www.nytimes.com/2018/02/22/sports/olympics/russia-flag-doping.html                            \n",
       "3  https://www.nytimes.com/2018/02/23/sports/olympics/united-states-womens-hockey.html                   \n",
       "4  https://www.nytimes.com/2018/02/20/sports/olympics/olympics-figure-skating-mirai-nagasu.html          \n",
       "5  https://www.nytimes.com/2018/02/18/sports/olympics/figure-skating-nbc-scott-hamilton-.html            \n",
       "6  https://www.nytimes.com/2018/02/12/sports/olympics/claudia-pechstein-doping-germany-olympics.html     \n",
       "7  https://www.nytimes.com/2017/11/14/magazine/spurned-by-espn-barstool-sports-is-staying-on-offense.html\n",
       "8  https://www.nytimes.com/2018/02/09/sports/scott-blackmun-usoc.html                                    \n",
       "9  https://www.nytimes.com/2017/12/25/opinion/sports-betting-legalization.html                           \n",
       "10 https://www.nytimes.com/2018/01/09/style/flywheel-cycling-spinning-at-home.html                       "
      ]
     },
     "metadata": {},
     "output_type": "display_data"
    }
   ],
   "source": [
    "\n",
    "library(rtimes)\n",
    "library(magrittr)\n",
    "Sys.setenv(NYTIMES_AS_KEY = \"c777efcf2b3746728883c428cff189c4\")\n",
    "#NYTIMES_AS_KEY= \"c777efcf2b3746728883c428cff189c4\"\n",
    "SportsData <- as_search(q=\"sports\",  page = 7)\n",
    "totalPage <- 9\n",
    "SportsData$meta\n",
    "web_url <- data.frame(SportsData$data$web_url)\n",
    "web_url\n",
    "write.csv(web_url, file = \"sports_unset_urls.csv\", row.names=FALSE, na=\"\")"
   ]
  },
  {
   "cell_type": "code",
   "execution_count": 5,
   "metadata": {},
   "outputs": [
    {
     "data": {
      "text/html": [
       "<table>\n",
       "<thead><tr><th scope=col>hits</th><th scope=col>offset</th><th scope=col>time</th></tr></thead>\n",
       "<tbody>\n",
       "\t<tr><td>2419073</td><td>110    </td><td>411    </td></tr>\n",
       "</tbody>\n",
       "</table>\n"
      ],
      "text/latex": [
       "\\begin{tabular}{r|lll}\n",
       " hits & offset & time\\\\\n",
       "\\hline\n",
       "\t 2419073 & 110     & 411    \\\\\n",
       "\\end{tabular}\n"
      ],
      "text/markdown": [
       "\n",
       "hits | offset | time | \n",
       "|---|\n",
       "| 2419073 | 110     | 411     | \n",
       "\n",
       "\n"
      ],
      "text/plain": [
       "  hits    offset time\n",
       "1 2419073 110    411 "
      ]
     },
     "metadata": {},
     "output_type": "display_data"
    },
    {
     "data": {
      "text/html": [
       "<table>\n",
       "<thead><tr><th scope=col>BusinessData.data.web_url</th></tr></thead>\n",
       "<tbody>\n",
       "\t<tr><td>https://www.nytimes.com/2018/04/02/opinion/big-business-washington.html                                 </td></tr>\n",
       "\t<tr><td>https://www.nytimes.com/reuters/2018/04/30/business/30reuters-usa-china-regulation-exclusive.html       </td></tr>\n",
       "\t<tr><td>https://www.nytimes.com/reuters/2018/04/30/business/30reuters-canada-stocks-tmx-grp.html                </td></tr>\n",
       "\t<tr><td>https://www.nytimes.com/reuters/2018/04/30/business/30reuters-telecomitalia-elliott.html                </td></tr>\n",
       "\t<tr><td>https://www.nytimes.com/reuters/2018/04/28/business/28reuters-usa-germany-merkel.html                   </td></tr>\n",
       "\t<tr><td>https://www.nytimes.com/aponline/2018/05/10/us/politics/ap-us-trump-cohen.html                          </td></tr>\n",
       "\t<tr><td>https://www.nytimes.com/aponline/2018/05/08/us/ap-us-amazon-seattle-tax.html                            </td></tr>\n",
       "\t<tr><td>https://www.nytimes.com/aponline/2018/05/08/us/ap-us-valeant-name-change.html                           </td></tr>\n",
       "\t<tr><td>https://www.nytimes.com/2018/05/11/business/profits-are-soaring-the-stock-market-has-barely-noticed.html</td></tr>\n",
       "\t<tr><td>https://www.nytimes.com/aponline/2018/05/04/us/politics/ap-us-economy-jobs-report-industries-glance.html</td></tr>\n",
       "</tbody>\n",
       "</table>\n"
      ],
      "text/latex": [
       "\\begin{tabular}{r|l}\n",
       " BusinessData.data.web\\_url\\\\\n",
       "\\hline\n",
       "\t https://www.nytimes.com/2018/04/02/opinion/big-business-washington.html                                 \\\\\n",
       "\t https://www.nytimes.com/reuters/2018/04/30/business/30reuters-usa-china-regulation-exclusive.html       \\\\\n",
       "\t https://www.nytimes.com/reuters/2018/04/30/business/30reuters-canada-stocks-tmx-grp.html                \\\\\n",
       "\t https://www.nytimes.com/reuters/2018/04/30/business/30reuters-telecomitalia-elliott.html                \\\\\n",
       "\t https://www.nytimes.com/reuters/2018/04/28/business/28reuters-usa-germany-merkel.html                   \\\\\n",
       "\t https://www.nytimes.com/aponline/2018/05/10/us/politics/ap-us-trump-cohen.html                          \\\\\n",
       "\t https://www.nytimes.com/aponline/2018/05/08/us/ap-us-amazon-seattle-tax.html                            \\\\\n",
       "\t https://www.nytimes.com/aponline/2018/05/08/us/ap-us-valeant-name-change.html                           \\\\\n",
       "\t https://www.nytimes.com/2018/05/11/business/profits-are-soaring-the-stock-market-has-barely-noticed.html\\\\\n",
       "\t https://www.nytimes.com/aponline/2018/05/04/us/politics/ap-us-economy-jobs-report-industries-glance.html\\\\\n",
       "\\end{tabular}\n"
      ],
      "text/markdown": [
       "\n",
       "BusinessData.data.web_url | \n",
       "|---|---|---|---|---|---|---|---|---|---|\n",
       "| https://www.nytimes.com/2018/04/02/opinion/big-business-washington.html                                  | \n",
       "| https://www.nytimes.com/reuters/2018/04/30/business/30reuters-usa-china-regulation-exclusive.html        | \n",
       "| https://www.nytimes.com/reuters/2018/04/30/business/30reuters-canada-stocks-tmx-grp.html                 | \n",
       "| https://www.nytimes.com/reuters/2018/04/30/business/30reuters-telecomitalia-elliott.html                 | \n",
       "| https://www.nytimes.com/reuters/2018/04/28/business/28reuters-usa-germany-merkel.html                    | \n",
       "| https://www.nytimes.com/aponline/2018/05/10/us/politics/ap-us-trump-cohen.html                           | \n",
       "| https://www.nytimes.com/aponline/2018/05/08/us/ap-us-amazon-seattle-tax.html                             | \n",
       "| https://www.nytimes.com/aponline/2018/05/08/us/ap-us-valeant-name-change.html                            | \n",
       "| https://www.nytimes.com/2018/05/11/business/profits-are-soaring-the-stock-market-has-barely-noticed.html | \n",
       "| https://www.nytimes.com/aponline/2018/05/04/us/politics/ap-us-economy-jobs-report-industries-glance.html | \n",
       "\n",
       "\n"
      ],
      "text/plain": [
       "   BusinessData.data.web_url                                                                               \n",
       "1  https://www.nytimes.com/2018/04/02/opinion/big-business-washington.html                                 \n",
       "2  https://www.nytimes.com/reuters/2018/04/30/business/30reuters-usa-china-regulation-exclusive.html       \n",
       "3  https://www.nytimes.com/reuters/2018/04/30/business/30reuters-canada-stocks-tmx-grp.html                \n",
       "4  https://www.nytimes.com/reuters/2018/04/30/business/30reuters-telecomitalia-elliott.html                \n",
       "5  https://www.nytimes.com/reuters/2018/04/28/business/28reuters-usa-germany-merkel.html                   \n",
       "6  https://www.nytimes.com/aponline/2018/05/10/us/politics/ap-us-trump-cohen.html                          \n",
       "7  https://www.nytimes.com/aponline/2018/05/08/us/ap-us-amazon-seattle-tax.html                            \n",
       "8  https://www.nytimes.com/aponline/2018/05/08/us/ap-us-valeant-name-change.html                           \n",
       "9  https://www.nytimes.com/2018/05/11/business/profits-are-soaring-the-stock-market-has-barely-noticed.html\n",
       "10 https://www.nytimes.com/aponline/2018/05/04/us/politics/ap-us-economy-jobs-report-industries-glance.html"
      ]
     },
     "metadata": {},
     "output_type": "display_data"
    }
   ],
   "source": [
    "library(rtimes)\n",
    "library(magrittr)\n",
    "Sys.setenv(NYTIMES_AS_KEY = \"c777efcf2b3746728883c428cff189c4\")\n",
    "#NYTIMES_AS_KEY= \"c777efcf2b3746728883c428cff189c4\"\n",
    "BusinessData <- as_search(q=\"business\", page = 11)\n",
    "\n",
    "BusinessData$meta\n",
    "web_url <- data.frame(BusinessData$data$web_url)\n",
    "web_url\n",
    "write.csv(web_url, file = \"business_unset_urls.csv\", row.names=FALSE, na=\"\")"
   ]
  },
  {
   "cell_type": "code",
   "execution_count": 7,
   "metadata": {},
   "outputs": [
    {
     "data": {
      "text/html": [
       "<table>\n",
       "<thead><tr><th scope=col>hits</th><th scope=col>offset</th><th scope=col>time</th></tr></thead>\n",
       "<tbody>\n",
       "\t<tr><td>683048</td><td>70    </td><td>222   </td></tr>\n",
       "</tbody>\n",
       "</table>\n"
      ],
      "text/latex": [
       "\\begin{tabular}{r|lll}\n",
       " hits & offset & time\\\\\n",
       "\\hline\n",
       "\t 683048 & 70     & 222   \\\\\n",
       "\\end{tabular}\n"
      ],
      "text/markdown": [
       "\n",
       "hits | offset | time | \n",
       "|---|\n",
       "| 683048 | 70     | 222    | \n",
       "\n",
       "\n"
      ],
      "text/plain": [
       "  hits   offset time\n",
       "1 683048 70     222 "
      ]
     },
     "metadata": {},
     "output_type": "display_data"
    },
    {
     "data": {
      "text/html": [
       "<table>\n",
       "<thead><tr><th scope=col>PoliticsData.data.web_url</th></tr></thead>\n",
       "<tbody>\n",
       "\t<tr><td>https://www.nytimes.com/2018/04/09/nyregion/congestion-pricing-manhattan-albany-fail.html                          </td></tr>\n",
       "\t<tr><td>https://www.nytimes.com/2018/03/13/books/review/mario-vargas-llosa-sabers-utopias-neighborhood.html                </td></tr>\n",
       "\t<tr><td>https://www.nytimes.com/2018/02/03/opinion/sunday/iran-hijab-women-scarves.html                                    </td></tr>\n",
       "\t<tr><td>https://www.nytimes.com/2017/12/27/opinion/kennedy-center-honors.html                                              </td></tr>\n",
       "\t<tr><td>https://www.nytimes.com/reuters/2018/05/03/sports/soccer/03reuters-soccer-fifa-vote.html                           </td></tr>\n",
       "\t<tr><td>https://www.nytimes.com/2018/01/29/opinion/trump-mexico-policy-threats.html                                        </td></tr>\n",
       "\t<tr><td>https://www.nytimes.com/2018/01/23/opinion/conservative-identity-politics.html                                     </td></tr>\n",
       "\t<tr><td>https://www.nytimes.com/2018/02/12/opinion/trump-human-rights.html                                                 </td></tr>\n",
       "\t<tr><td>https://www.nytimes.com/2018/05/02/arts/television/dear-white-people-creator-doubles-down-on-identity-politics.html</td></tr>\n",
       "\t<tr><td>https://www.nytimes.com/2018/03/29/opinion/cynthia-nixon.html                                                      </td></tr>\n",
       "</tbody>\n",
       "</table>\n"
      ],
      "text/latex": [
       "\\begin{tabular}{r|l}\n",
       " PoliticsData.data.web\\_url\\\\\n",
       "\\hline\n",
       "\t https://www.nytimes.com/2018/04/09/nyregion/congestion-pricing-manhattan-albany-fail.html                          \\\\\n",
       "\t https://www.nytimes.com/2018/03/13/books/review/mario-vargas-llosa-sabers-utopias-neighborhood.html                \\\\\n",
       "\t https://www.nytimes.com/2018/02/03/opinion/sunday/iran-hijab-women-scarves.html                                    \\\\\n",
       "\t https://www.nytimes.com/2017/12/27/opinion/kennedy-center-honors.html                                              \\\\\n",
       "\t https://www.nytimes.com/reuters/2018/05/03/sports/soccer/03reuters-soccer-fifa-vote.html                           \\\\\n",
       "\t https://www.nytimes.com/2018/01/29/opinion/trump-mexico-policy-threats.html                                        \\\\\n",
       "\t https://www.nytimes.com/2018/01/23/opinion/conservative-identity-politics.html                                     \\\\\n",
       "\t https://www.nytimes.com/2018/02/12/opinion/trump-human-rights.html                                                 \\\\\n",
       "\t https://www.nytimes.com/2018/05/02/arts/television/dear-white-people-creator-doubles-down-on-identity-politics.html\\\\\n",
       "\t https://www.nytimes.com/2018/03/29/opinion/cynthia-nixon.html                                                      \\\\\n",
       "\\end{tabular}\n"
      ],
      "text/markdown": [
       "\n",
       "PoliticsData.data.web_url | \n",
       "|---|---|---|---|---|---|---|---|---|---|\n",
       "| https://www.nytimes.com/2018/04/09/nyregion/congestion-pricing-manhattan-albany-fail.html                           | \n",
       "| https://www.nytimes.com/2018/03/13/books/review/mario-vargas-llosa-sabers-utopias-neighborhood.html                 | \n",
       "| https://www.nytimes.com/2018/02/03/opinion/sunday/iran-hijab-women-scarves.html                                     | \n",
       "| https://www.nytimes.com/2017/12/27/opinion/kennedy-center-honors.html                                               | \n",
       "| https://www.nytimes.com/reuters/2018/05/03/sports/soccer/03reuters-soccer-fifa-vote.html                            | \n",
       "| https://www.nytimes.com/2018/01/29/opinion/trump-mexico-policy-threats.html                                         | \n",
       "| https://www.nytimes.com/2018/01/23/opinion/conservative-identity-politics.html                                      | \n",
       "| https://www.nytimes.com/2018/02/12/opinion/trump-human-rights.html                                                  | \n",
       "| https://www.nytimes.com/2018/05/02/arts/television/dear-white-people-creator-doubles-down-on-identity-politics.html | \n",
       "| https://www.nytimes.com/2018/03/29/opinion/cynthia-nixon.html                                                       | \n",
       "\n",
       "\n"
      ],
      "text/plain": [
       "   PoliticsData.data.web_url                                                                                          \n",
       "1  https://www.nytimes.com/2018/04/09/nyregion/congestion-pricing-manhattan-albany-fail.html                          \n",
       "2  https://www.nytimes.com/2018/03/13/books/review/mario-vargas-llosa-sabers-utopias-neighborhood.html                \n",
       "3  https://www.nytimes.com/2018/02/03/opinion/sunday/iran-hijab-women-scarves.html                                    \n",
       "4  https://www.nytimes.com/2017/12/27/opinion/kennedy-center-honors.html                                              \n",
       "5  https://www.nytimes.com/reuters/2018/05/03/sports/soccer/03reuters-soccer-fifa-vote.html                           \n",
       "6  https://www.nytimes.com/2018/01/29/opinion/trump-mexico-policy-threats.html                                        \n",
       "7  https://www.nytimes.com/2018/01/23/opinion/conservative-identity-politics.html                                     \n",
       "8  https://www.nytimes.com/2018/02/12/opinion/trump-human-rights.html                                                 \n",
       "9  https://www.nytimes.com/2018/05/02/arts/television/dear-white-people-creator-doubles-down-on-identity-politics.html\n",
       "10 https://www.nytimes.com/2018/03/29/opinion/cynthia-nixon.html                                                      "
      ]
     },
     "metadata": {},
     "output_type": "display_data"
    }
   ],
   "source": [
    "library(rtimes)\n",
    "library(magrittr)\n",
    "Sys.setenv(NYTIMES_AS_KEY = \"c777efcf2b3746728883c428cff189c4\")\n",
    "#NYTIMES_AS_KEY= \"c777efcf2b3746728883c428cff189c4\"\n",
    "PoliticsData <- as_search(q=\"politics\", page = 7)\n",
    "\n",
    "PoliticsData$meta\n",
    "web_url <- data.frame(PoliticsData$data$web_url)\n",
    "web_url\n",
    "\n",
    "write.csv(web_url, file = \"politics_unset_urls.csv\", row.names=FALSE, na=\"\")"
   ]
  },
  {
   "cell_type": "code",
   "execution_count": 8,
   "metadata": {},
   "outputs": [
    {
     "data": {
      "text/html": [
       "<table>\n",
       "<thead><tr><th scope=col>hits</th><th scope=col>offset</th><th scope=col>time</th></tr></thead>\n",
       "<tbody>\n",
       "\t<tr><td>646025</td><td>170   </td><td>138   </td></tr>\n",
       "</tbody>\n",
       "</table>\n"
      ],
      "text/latex": [
       "\\begin{tabular}{r|lll}\n",
       " hits & offset & time\\\\\n",
       "\\hline\n",
       "\t 646025 & 170    & 138   \\\\\n",
       "\\end{tabular}\n"
      ],
      "text/markdown": [
       "\n",
       "hits | offset | time | \n",
       "|---|\n",
       "| 646025 | 170    | 138    | \n",
       "\n",
       "\n"
      ],
      "text/plain": [
       "  hits   offset time\n",
       "1 646025 170    138 "
      ]
     },
     "metadata": {},
     "output_type": "display_data"
    },
    {
     "data": {
      "text/html": [
       "<table>\n",
       "<thead><tr><th scope=col>EducationData.data.web_url</th></tr></thead>\n",
       "<tbody>\n",
       "\t<tr><td>https://www.nytimes.com/2017/12/11/upshot/sexual-harassment-workplace-prevention-effective.html           </td></tr>\n",
       "\t<tr><td>https://www.nytimes.com/2018/03/02/us/west-virginia-teacher-strike.html                                   </td></tr>\n",
       "\t<tr><td>https://www.nytimes.com/2017/08/29/nyregion/family-of-boy-who-wears-dresses-sues-education-department.html</td></tr>\n",
       "\t<tr><td>https://www.nytimes.com/2018/03/12/opinion/devos-school-prison-pipeline.html                              </td></tr>\n",
       "\t<tr><td>https://www.nytimes.com/slideshow/2017/07/18/blogs/when-education-is-hijacked-by-war.html                 </td></tr>\n",
       "\t<tr><td>https://www.nytimes.com/2017/11/21/nyregion/bumped-from-home-to-home-then-pushed-into-college.html        </td></tr>\n",
       "\t<tr><td>https://www.nytimes.com/2018/02/08/us/politics/teacher-union-devos-protest.html                           </td></tr>\n",
       "\t<tr><td>https://www.nytimes.com/2017/08/25/books/review/this-is-just-a-test-rosenberg-shang.html                  </td></tr>\n",
       "\t<tr><td>https://www.nytimes.com/2017/11/03/education/edlife/christina-hoff-sommers-sexual-assault-feminism.html   </td></tr>\n",
       "\t<tr><td>https://lens.blogs.nytimes.com/2017/07/18/when-education-is-hijacked-by-war/                              </td></tr>\n",
       "</tbody>\n",
       "</table>\n"
      ],
      "text/latex": [
       "\\begin{tabular}{r|l}\n",
       " EducationData.data.web\\_url\\\\\n",
       "\\hline\n",
       "\t https://www.nytimes.com/2017/12/11/upshot/sexual-harassment-workplace-prevention-effective.html           \\\\\n",
       "\t https://www.nytimes.com/2018/03/02/us/west-virginia-teacher-strike.html                                   \\\\\n",
       "\t https://www.nytimes.com/2017/08/29/nyregion/family-of-boy-who-wears-dresses-sues-education-department.html\\\\\n",
       "\t https://www.nytimes.com/2018/03/12/opinion/devos-school-prison-pipeline.html                              \\\\\n",
       "\t https://www.nytimes.com/slideshow/2017/07/18/blogs/when-education-is-hijacked-by-war.html                 \\\\\n",
       "\t https://www.nytimes.com/2017/11/21/nyregion/bumped-from-home-to-home-then-pushed-into-college.html        \\\\\n",
       "\t https://www.nytimes.com/2018/02/08/us/politics/teacher-union-devos-protest.html                           \\\\\n",
       "\t https://www.nytimes.com/2017/08/25/books/review/this-is-just-a-test-rosenberg-shang.html                  \\\\\n",
       "\t https://www.nytimes.com/2017/11/03/education/edlife/christina-hoff-sommers-sexual-assault-feminism.html   \\\\\n",
       "\t https://lens.blogs.nytimes.com/2017/07/18/when-education-is-hijacked-by-war/                              \\\\\n",
       "\\end{tabular}\n"
      ],
      "text/markdown": [
       "\n",
       "EducationData.data.web_url | \n",
       "|---|---|---|---|---|---|---|---|---|---|\n",
       "| https://www.nytimes.com/2017/12/11/upshot/sexual-harassment-workplace-prevention-effective.html            | \n",
       "| https://www.nytimes.com/2018/03/02/us/west-virginia-teacher-strike.html                                    | \n",
       "| https://www.nytimes.com/2017/08/29/nyregion/family-of-boy-who-wears-dresses-sues-education-department.html | \n",
       "| https://www.nytimes.com/2018/03/12/opinion/devos-school-prison-pipeline.html                               | \n",
       "| https://www.nytimes.com/slideshow/2017/07/18/blogs/when-education-is-hijacked-by-war.html                  | \n",
       "| https://www.nytimes.com/2017/11/21/nyregion/bumped-from-home-to-home-then-pushed-into-college.html         | \n",
       "| https://www.nytimes.com/2018/02/08/us/politics/teacher-union-devos-protest.html                            | \n",
       "| https://www.nytimes.com/2017/08/25/books/review/this-is-just-a-test-rosenberg-shang.html                   | \n",
       "| https://www.nytimes.com/2017/11/03/education/edlife/christina-hoff-sommers-sexual-assault-feminism.html    | \n",
       "| https://lens.blogs.nytimes.com/2017/07/18/when-education-is-hijacked-by-war/                               | \n",
       "\n",
       "\n"
      ],
      "text/plain": [
       "   EducationData.data.web_url                                                                                \n",
       "1  https://www.nytimes.com/2017/12/11/upshot/sexual-harassment-workplace-prevention-effective.html           \n",
       "2  https://www.nytimes.com/2018/03/02/us/west-virginia-teacher-strike.html                                   \n",
       "3  https://www.nytimes.com/2017/08/29/nyregion/family-of-boy-who-wears-dresses-sues-education-department.html\n",
       "4  https://www.nytimes.com/2018/03/12/opinion/devos-school-prison-pipeline.html                              \n",
       "5  https://www.nytimes.com/slideshow/2017/07/18/blogs/when-education-is-hijacked-by-war.html                 \n",
       "6  https://www.nytimes.com/2017/11/21/nyregion/bumped-from-home-to-home-then-pushed-into-college.html        \n",
       "7  https://www.nytimes.com/2018/02/08/us/politics/teacher-union-devos-protest.html                           \n",
       "8  https://www.nytimes.com/2017/08/25/books/review/this-is-just-a-test-rosenberg-shang.html                  \n",
       "9  https://www.nytimes.com/2017/11/03/education/edlife/christina-hoff-sommers-sexual-assault-feminism.html   \n",
       "10 https://lens.blogs.nytimes.com/2017/07/18/when-education-is-hijacked-by-war/                              "
      ]
     },
     "metadata": {},
     "output_type": "display_data"
    }
   ],
   "source": [
    "library(rtimes)\n",
    "library(magrittr)\n",
    "Sys.setenv(NYTIMES_AS_KEY = \"c777efcf2b3746728883c428cff189c4\")\n",
    "#NYTIMES_AS_KEY= \"c777efcf2b3746728883c428cff189c4\"\n",
    "EducationData <- as_search(q=\"education\", page = 17)\n",
    "\n",
    "EducationData$meta\n",
    "web_url <- data.frame(EducationData$data$web_url)\n",
    "web_url\n",
    "\n",
    "write.csv(web_url, file = \"education_unset_urls.csv\", row.names=FALSE, na=\"\")"
   ]
  },
  {
   "cell_type": "code",
   "execution_count": null,
   "metadata": {
    "collapsed": true
   },
   "outputs": [],
   "source": []
  }
 ],
 "metadata": {
  "kernelspec": {
   "display_name": "R",
   "language": "R",
   "name": "ir"
  },
  "language_info": {
   "codemirror_mode": "r",
   "file_extension": ".r",
   "mimetype": "text/x-r-source",
   "name": "R",
   "pygments_lexer": "r",
   "version": "3.4.2"
  }
 },
 "nbformat": 4,
 "nbformat_minor": 2
}
